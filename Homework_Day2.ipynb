{
  "nbformat": 4,
  "nbformat_minor": 0,
  "metadata": {
    "colab": {
      "name": "Homework_Day2.ipynb",
      "provenance": [],
      "collapsed_sections": [],
      "authorship_tag": "ABX9TyPRWEfackUXnrrvL9QlPhU8"
    },
    "kernelspec": {
      "display_name": "Python 3",
      "name": "python3"
    }
  },
  "cells": [
    {
      "cell_type": "markdown",
      "metadata": {
        "id": "5DqXtBjj_ce3"
      },
      "source": [
        "**Day 2**\r\n",
        "1. Create a List and Swap the second half of the list with the first half\r\n",
        "of the list and print the list on the screen."
      ]
    },
    {
      "cell_type": "code",
      "metadata": {
        "id": "Do9MpyNjAXT7"
      },
      "source": [
        "my_list = [1,2,3,4,5,6]\r\n",
        "a = my_list.index(1)\r\n",
        "b = my_list.index(2)\r\n",
        "c = my_list.index(3)\r\n",
        "d = my_list.index(4)\r\n",
        "e = my_list.index(5)\r\n",
        "f = my_list.index(6)\r\n",
        "my_list[a], my_list[b], my_list[c], my_list[d], my_list[e], my_list[f] = my_list[d],my_list[e], my_list[f], my_list[a], my_list[b], my_list[c]\r\n",
        "\r\n",
        "print(my_list)"
      ],
      "execution_count": null,
      "outputs": []
    },
    {
      "cell_type": "markdown",
      "metadata": {
        "id": "tI7oLzrCPgEY"
      },
      "source": [
        "2. Ask the user to input a single digit integer to a variable 'n'\r\n",
        "Then, print out all of the even numbers from 0 to n (includin n)."
      ]
    },
    {
      "cell_type": "code",
      "metadata": {
        "id": "Om0FyzlgWaZ7"
      },
      "source": [
        "n = int(input(\"input a single digit integer...\"))\r\n",
        "start = 0\r\n",
        "while start <= n:\r\n",
        "  if start % 2 == 0:\r\n",
        "    print(start,end = \" \")\r\n",
        "  start += 1"
      ],
      "execution_count": null,
      "outputs": []
    }
  ]
}