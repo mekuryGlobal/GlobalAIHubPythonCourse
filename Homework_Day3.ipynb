{
  "nbformat": 4,
  "nbformat_minor": 0,
  "metadata": {
    "colab": {
      "name": "Homework_Day3.ipynb",
      "provenance": [],
      "collapsed_sections": [],
      "authorship_tag": "ABX9TyOw2OghgkCOsxVI/R4lCjmf"
    },
    "kernelspec": {
      "name": "python3",
      "display_name": "Python 3"
    }
  },
  "cells": [
    {
      "cell_type": "markdown",
      "metadata": {
        "id": "7KbJs3QBCpox"
      },
      "source": [
        "**Day 3**\r\n",
        "\r\n",
        "1. User login application\r\n",
        "- Get usernam and password details from the user.\r\n",
        "- Check the values in an if statement and tell the user if they are successful.\r\n",
        "\r\n",
        "Extra \r\n",
        "- Try building the same user login application but this time, use a dictionary!"
      ]
    },
    {
      "cell_type": "code",
      "metadata": {
        "id": "m5DGHEZSCoJ9"
      },
      "source": [
        "user_name = \"patrick\"\r\n",
        "password =\"12345678\"\r\n",
        "\r\n",
        "user_name1 =input(\"Please enter your user name\")\r\n",
        "\r\n",
        "password1= input(\"Please enter your password\")\r\n",
        "\r\n",
        "if (user_name != user_name1 and password == password1):\r\n",
        "    print(\"Invalid user name\")\r\n",
        "elif (user_name==user_name1 and password != password1):\r\n",
        "    print(\"Invalid Password\")\r\n",
        "elif (user_name != user_name1 and password!= password1):\r\n",
        "    print(\"Invalid user name and password\")\r\n",
        "else:\r\n",
        "    print(\"Your details are correct...\")\r\n"
      ],
      "execution_count": null,
      "outputs": []
    },
    {
      "cell_type": "markdown",
      "metadata": {
        "id": "tJaqlyZ8Ruax"
      },
      "source": [
        "Extra"
      ]
    },
    {
      "cell_type": "code",
      "metadata": {
        "id": "a0-pM6BmNKtV"
      },
      "source": [
        "my_login = {\"login\":[\"patrick\",\"12345678\"]}\r\n",
        "\r\n",
        "user_name1 =input(\"Please enter your user name\")\r\n",
        "password1= input(\"Please enter your password\")\r\n",
        "if (my_login[\"login\"][0] != user_name1 and my_login[\"login\"][1] == password1):\r\n",
        "    print(\"Invalid user name\")\r\n",
        "elif (my_login[\"login\"][0] == user_name1 and my_login[\"login\"][1] != password1):\r\n",
        "    print(\"Invalid Password\")\r\n",
        "elif (my_login[\"login\"][0] != user_name1 and my_login[\"login\"][1] != password1):\r\n",
        "    print(\"Invalid user name and password\")\r\n",
        "else:\r\n",
        "    print(\"Your details are correct...\")"
      ],
      "execution_count": null,
      "outputs": []
    }
  ]
}