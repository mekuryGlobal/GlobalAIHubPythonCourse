{
  "nbformat": 4,
  "nbformat_minor": 0,
  "metadata": {
    "colab": {
      "name": "Homework_Day5.ipynb",
      "provenance": [],
      "collapsed_sections": [],
      "authorship_tag": "ABX9TyOEF4lyoUaXl5zm5F+XAqEN"
    },
    "kernelspec": {
      "name": "python3",
      "display_name": "Python 3"
    }
  },
  "cells": [
    {
      "cell_type": "markdown",
      "metadata": {
        "id": "EFBnXbvvhOWL"
      },
      "source": [
        "Day 5\r\n",
        "1. create three classes named Animals, Dogs, Cats. \r\n",
        "Add some features to these classes\r\n",
        "create some fuctions with these attributes.\r\n",
        "Don't forget you have to do it with inheritance"
      ]
    },
    {
      "cell_type": "code",
      "metadata": {
        "id": "uINCiZLRe0l1"
      },
      "source": [
        "class Animals():\r\n",
        "\r\n",
        "  def __init__(self, name, habitat, nutrition, theclass):\r\n",
        "    self.name = name\r\n",
        "    self.habitat = habitat\r\n",
        "    self.nutrition = nutrition\r\n",
        "    self.theclass = theclass\r\n",
        "  \r\n",
        "  def TheName(self):\r\n",
        "    print(\"The name of the animal is \" + self.name)\r\n",
        "\r\n",
        "  def TheHabitat(self):\r\n",
        "    print(\"The \" + self.name + \" lives on \" + self.habitat)\r\n",
        "\r\n",
        "  def TheNutrition(self):\r\n",
        "    print(\"The \" + self.name + \" is a \" + self.nutrition)\r\n",
        "\r\n",
        "  def TheClass(self):\r\n",
        "    print(\"The \" + self.name + \" belongs to the \" + self.theclass + \" class\")"
      ],
      "execution_count": null,
      "outputs": []
    },
    {
      "cell_type": "code",
      "metadata": {
        "id": "fInxImrtqDTI"
      },
      "source": [
        "Animal1 = Animals (\"Lion\", \"land\", \"canivore\", \"mammalian\")\r\n",
        "Animal1.TheName()\r\n",
        "Animal1.TheHabitat()\r\n",
        "Animal1.TheNutrition()\r\n",
        "Animal1.TheClass()"
      ],
      "execution_count": null,
      "outputs": []
    },
    {
      "cell_type": "code",
      "metadata": {
        "id": "HiQauHgPPxz5"
      },
      "source": [
        "class Dogs(Animals):\r\n",
        "  def __init__(self, name, habitat, nutrition, theclass, sound):\r\n",
        "    super(). __init__(name, habitat, nutrition, theclass)\r\n",
        "    self.sound = sound\r\n",
        "\r\n",
        "  def TheSound(self):\r\n",
        "    print(\"The sound of a \" + self.name + \" is called a \" + self.sound)\r\n"
      ],
      "execution_count": null,
      "outputs": []
    },
    {
      "cell_type": "code",
      "metadata": {
        "id": "QiWDzpH-SfBy"
      },
      "source": [
        "Animal2 = Dogs (\"Dog\", \"land\", \"ominivore\", \"mammalian\", \"bark\")\r\n",
        "Animal2.TheName()\r\n",
        "Animal2.TheHabitat()\r\n",
        "Animal2.TheNutrition()\r\n",
        "Animal2.TheClass()\r\n",
        "Animal2.TheSound()"
      ],
      "execution_count": null,
      "outputs": []
    },
    {
      "cell_type": "code",
      "metadata": {
        "id": "e13B5eLoVTZk"
      },
      "source": [
        "class Cats(Animals):\r\n",
        "  def __init__(self, name, habitat, nutrition, theclass, sound,lives):\r\n",
        "    super(). __init__(name, habitat, nutrition, theclass)\r\n",
        "    self.sound = sound\r\n",
        "    self.lives = lives\r\n",
        "\r\n",
        "  def TheSound(self):\r\n",
        "    print(\"The sound of a \" + self.name + \" is called a \" + self.sound)\r\n",
        "\r\n",
        "  def TheLives(self):\r\n",
        "    print(\"A \" + self.name + \" has \" + self.lives + \" lives\")"
      ],
      "execution_count": null,
      "outputs": []
    },
    {
      "cell_type": "code",
      "metadata": {
        "id": "L1GSp58eV1gE"
      },
      "source": [
        "Animal3 = Cats (\"Cat\", \"land\", \"ominivore\", \"mammalian\", \"meow\",\"9\")\r\n",
        "Animal3.TheName()\r\n",
        "Animal3.TheHabitat()\r\n",
        "Animal3.TheNutrition()\r\n",
        "Animal3.TheClass()\r\n",
        "Animal3.TheSound()\r\n",
        "Animal3.TheLives()"
      ],
      "execution_count": null,
      "outputs": []
    }
  ]
}