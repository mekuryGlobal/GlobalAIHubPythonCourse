{
  "nbformat": 4,
  "nbformat_minor": 0,
  "metadata": {
    "colab": {
      "name": "Homework_day4.ipynb",
      "provenance": [],
      "collapsed_sections": [],
      "authorship_tag": "ABX9TyPgH/ut3x87cDpRFeuFAHCN"
    },
    "kernelspec": {
      "name": "python3",
      "display_name": "Python 3"
    }
  },
  "cells": [
    {
      "cell_type": "markdown",
      "metadata": {
        "id": "1WsTWNJMZsEg"
      },
      "source": [
        "Day 4\r\n",
        "1. Finding prime numbers between 0 to 100 using functions"
      ]
    },
    {
      "cell_type": "code",
      "metadata": {
        "id": "rTyZSfW0Zfzj"
      },
      "source": [
        "def prime(a,b):\r\n",
        "  for num in range(a,b+1):\r\n",
        "    if num > 1:\r\n",
        "      for i in range(2,num):\r\n",
        "        if(num % i) == 0:\r\n",
        "          break\r\n",
        "      else:\r\n",
        "        print(num)\r\n",
        "\r\n",
        "prime(0,100)\r\n"
      ],
      "execution_count": null,
      "outputs": []
    }
  ]
}