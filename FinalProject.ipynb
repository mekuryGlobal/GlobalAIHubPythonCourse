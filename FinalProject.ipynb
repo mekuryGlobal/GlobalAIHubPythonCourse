{
  "nbformat": 4,
  "nbformat_minor": 0,
  "metadata": {
    "colab": {
      "name": "FinalProject.ipynb",
      "provenance": [],
      "collapsed_sections": [],
      "authorship_tag": "ABX9TyO4g4YJvGRk5oRSKtF89zHw"
    },
    "kernelspec": {
      "name": "python3",
      "display_name": "Python 3"
    }
  },
  "cells": [
    {
      "cell_type": "markdown",
      "metadata": {
        "id": "AIrvq3hFYveb"
      },
      "source": [
        "Final Project\r\n",
        "\r\n",
        "1. Company management system: determine the names and ages of employess, company managers and the languages they can speak, then write a program that will print the languages that any of the employees can speak. In this project, complete the project by creating two classes named employees and managers."
      ]
    },
    {
      "cell_type": "code",
      "metadata": {
        "id": "tta1i9TfYgw2"
      },
      "source": [
        "class Employees():\r\n",
        "\r\n",
        "  def __init__(self, name, age, language):\r\n",
        "    self.name = name\r\n",
        "    self.age = age\r\n",
        "    self.language = language\r\n",
        "\r\n",
        "  \r\n",
        "    "
      ],
      "execution_count": null,
      "outputs": []
    },
    {
      "cell_type": "code",
      "metadata": {
        "id": "B4bMMIGtJwzK"
      },
      "source": [
        "class Managers (Employees):\r\n",
        "  def __init__(self, name, age,role, language):\r\n",
        "    super(). __init__(name, age, language)\r\n",
        "    self.role = role"
      ],
      "execution_count": null,
      "outputs": []
    },
    {
      "cell_type": "code",
      "metadata": {
        "id": "Lnuqxi5eMV2p"
      },
      "source": [
        "Employee1 = Employees(\"Patrick\", 25, \"English\")\r\n",
        "Employee2 = Employees(\"Chinedu\", 32, \"Dutch\")\r\n",
        "Employee3 = Employees(\"Arinze\", 54, \"English\")\r\n",
        "Manager1 = Managers(\"Emeka\", 28, \"manager\", \"French\")\r\n",
        "Manager2 = Managers(\"Paul\", 56, \"manager\", \"Ibo\")\r\n",
        "Manager3 = Managers(\"Iyke\", 34, \"manager\", \"French\")\r\n",
        "CompanyManagement = [Employee1, Employee2, Employee3, Manager1, Manager2, Manager3]\r\n"
      ],
      "execution_count": null,
      "outputs": []
    },
    {
      "cell_type": "code",
      "metadata": {
        "id": "-b_9Ak0TQaM6"
      },
      "source": [
        "languages = []\r\n",
        "for i in CompanyManagement:\r\n",
        "  if i.language not in languages:\r\n",
        "    languages.append(i.language)\r\n",
        "print(\"The employees in the company speak:\")\r\n",
        "for i in languages:\r\n",
        "  print(i)"
      ],
      "execution_count": null,
      "outputs": []
    }
  ]
}